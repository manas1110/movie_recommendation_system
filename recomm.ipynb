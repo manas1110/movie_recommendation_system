{
 "cells": [
  {
   "cell_type": "code",
   "execution_count": 1,
   "metadata": {},
   "outputs": [
    {
     "name": "stderr",
     "output_type": "stream",
     "text": [
      "2024-10-13 16:34:47.909 \n",
      "  \u001b[33m\u001b[1mWarning:\u001b[0m to view this Streamlit app on a browser, run it with the following\n",
      "  command:\n",
      "\n",
      "    streamlit run c:\\Users\\manas\\anaconda3\\Lib\\site-packages\\ipykernel_launcher.py [ARGUMENTS]\n",
      "2024-10-13 16:34:48.667 Session state does not function when running a script without `streamlit run`\n"
     ]
    }
   ],
   "source": [
    "import pickle\n",
    "import streamlit as st\n",
    "\n",
    "def recommend(movie):\n",
    "    index = movies[movies['name'] == movie].index[0]\n",
    "    distances = sorted(list(enumerate(similarity[index])), reverse=True, key=lambda x: x[1])\n",
    "    recommended_movie_names = []\n",
    "    for i in distances[1:6]:\n",
    "        recommended_movie_names.append(movies.iloc[i[0]].name)\n",
    "\n",
    "    return recommended_movie_names\n",
    "\n",
    "page_bg_img = '''\n",
    "<style>\n",
    "      .stApp {\n",
    "  background-image: url(\"https://payload.cargocollective.com/1/11/367710/13568488/MOVIECLASSICSerikweb_2500_800.jpg\");\n",
    "  background-size: cover;\n",
    "}\n",
    "</style>\n",
    "'''\n",
    "\n",
    "st.markdown(page_bg_img, unsafe_allow_html=True)\n",
    "\n",
    "\n",
    "st.markdown('# Movie Recommendation System')\n",
    "movies = pickle.load(open('movie_list.pkl','rb'))\n",
    "similarity = pickle.load(open('similarity.pkl','rb'))\n",
    "\n",
    "movie_list = movies['name'].values\n",
    "selected_movie = st.selectbox(\n",
    "    \"Type or select a movie from the dropdown\",\n",
    "    movie_list\n",
    ")\n",
    "\n",
    "\n",
    "\n",
    "if st.button('Show Recommendation'):\n",
    "    recommended_movie_names = recommend(selected_movie)\n",
    "    for i in recommended_movie_names:\n",
    "        st.subheader(i)"
   ]
  },
  {
   "cell_type": "code",
   "execution_count": null,
   "metadata": {},
   "outputs": [],
   "source": []
  }
 ],
 "metadata": {
  "kernelspec": {
   "display_name": "base",
   "language": "python",
   "name": "python3"
  },
  "language_info": {
   "codemirror_mode": {
    "name": "ipython",
    "version": 3
   },
   "file_extension": ".py",
   "mimetype": "text/x-python",
   "name": "python",
   "nbconvert_exporter": "python",
   "pygments_lexer": "ipython3",
   "version": "3.12.3"
  }
 },
 "nbformat": 4,
 "nbformat_minor": 2
}
