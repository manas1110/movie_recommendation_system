{
 "cells": [
  {
   "cell_type": "code",
   "execution_count": 1,
   "metadata": {},
   "outputs": [],
   "source": [
    "import requests\n",
    "from bs4 import BeautifulSoup\n",
    "import json\n",
    "import pandas as pd\n",
    "from urllib.request import urlopen"
   ]
  },
  {
   "cell_type": "code",
   "execution_count": 111,
   "metadata": {},
   "outputs": [
    {
     "name": "stdout",
     "output_type": "stream",
     "text": [
      "['https://www.imdb.com/title/tt0111161/', 'https://www.imdb.com/title/tt0068646/', 'https://www.imdb.com/title/tt0468569/', 'https://www.imdb.com/title/tt0071562/', 'https://www.imdb.com/title/tt0050083/', 'https://www.imdb.com/title/tt0167260/', 'https://www.imdb.com/title/tt0108052/', 'https://www.imdb.com/title/tt0110912/', 'https://www.imdb.com/title/tt0120737/', 'https://www.imdb.com/title/tt0060196/', 'https://www.imdb.com/title/tt0109830/', 'https://www.imdb.com/title/tt0167261/', 'https://www.imdb.com/title/tt0137523/', 'https://www.imdb.com/title/tt1375666/', 'https://www.imdb.com/title/tt0080684/', 'https://www.imdb.com/title/tt0133093/', 'https://www.imdb.com/title/tt0099685/', 'https://www.imdb.com/title/tt0073486/', 'https://www.imdb.com/title/tt0816692/', 'https://www.imdb.com/title/tt0114369/', 'https://www.imdb.com/title/tt0038650/', 'https://www.imdb.com/title/tt0047478/', 'https://www.imdb.com/title/tt0102926/', 'https://www.imdb.com/title/tt0120815/', 'https://www.imdb.com/title/tt0317248/', 'https://www.imdb.com/title/tt0118799/', 'https://www.imdb.com/title/tt0120689/', 'https://www.imdb.com/title/tt0103064/', 'https://www.imdb.com/title/tt0076759/', 'https://www.imdb.com/title/tt0088763/', 'https://www.imdb.com/title/tt0245429/', 'https://www.imdb.com/title/tt0253474/', 'https://www.imdb.com/title/tt6751668/', 'https://www.imdb.com/title/tt0054215/', 'https://www.imdb.com/title/tt0172495/', 'https://www.imdb.com/title/tt0110357/', 'https://www.imdb.com/title/tt9362722/', 'https://www.imdb.com/title/tt0407887/', 'https://www.imdb.com/title/tt2582802/', 'https://www.imdb.com/title/tt0120586/', 'https://www.imdb.com/title/tt0095327/', 'https://www.imdb.com/title/tt0110413/', 'https://www.imdb.com/title/tt0482571/', 'https://www.imdb.com/title/tt0056058/', 'https://www.imdb.com/title/tt0114814/', 'https://www.imdb.com/title/tt0034583/', 'https://www.imdb.com/title/tt15239678/', 'https://www.imdb.com/title/tt1675434/', 'https://www.imdb.com/title/tt0095765/', 'https://www.imdb.com/title/tt0027977/', 'https://www.imdb.com/title/tt0078748/', 'https://www.imdb.com/title/tt0047396/', 'https://www.imdb.com/title/tt0064116/', 'https://www.imdb.com/title/tt1853728/', 'https://www.imdb.com/title/tt0021749/', 'https://www.imdb.com/title/tt0078788/', 'https://www.imdb.com/title/tt0209144/', 'https://www.imdb.com/title/tt0910970/', 'https://www.imdb.com/title/tt0082971/', 'https://www.imdb.com/title/tt23849204/', 'https://www.imdb.com/title/tt0405094/', 'https://www.imdb.com/title/tt0043014/', 'https://www.imdb.com/title/tt4154756/', 'https://www.imdb.com/title/tt0050825/', 'https://www.imdb.com/title/tt4633694/', 'https://www.imdb.com/title/tt0051201/', 'https://www.imdb.com/title/tt0081505/', 'https://www.imdb.com/title/tt0032553/', 'https://www.imdb.com/title/tt0090605/', 'https://www.imdb.com/title/tt0361748/', 'https://www.imdb.com/title/tt1345836/', 'https://www.imdb.com/title/tt2380307/', 'https://www.imdb.com/title/tt0086879/', 'https://www.imdb.com/title/tt0114709/', 'https://www.imdb.com/title/tt0057012/', 'https://www.imdb.com/title/tt0364569/', 'https://www.imdb.com/title/tt0169547/', 'https://www.imdb.com/title/tt4154796/', 'https://www.imdb.com/title/tt0082096/', 'https://www.imdb.com/title/tt0112573/', 'https://www.imdb.com/title/tt0119217/', 'https://www.imdb.com/title/tt0119698/', 'https://www.imdb.com/title/tt5311514/', 'https://www.imdb.com/title/tt7286456/', 'https://www.imdb.com/title/tt0057565/', 'https://www.imdb.com/title/tt1187043/', 'https://www.imdb.com/title/tt0087843/', 'https://www.imdb.com/title/tt0045152/', 'https://www.imdb.com/title/tt8267604/', 'https://www.imdb.com/title/tt0091251/', 'https://www.imdb.com/title/tt0180093/', 'https://www.imdb.com/title/tt0435761/', 'https://www.imdb.com/title/tt0086190/', 'https://www.imdb.com/title/tt2106476/', 'https://www.imdb.com/title/tt0338013/', 'https://www.imdb.com/title/tt0062622/', 'https://www.imdb.com/title/tt0044741/', 'https://www.imdb.com/title/tt0105236/', 'https://www.imdb.com/title/tt0056172/', 'https://www.imdb.com/title/tt0053604/', 'https://www.imdb.com/title/tt1255953/', 'https://www.imdb.com/title/tt0086250/', 'https://www.imdb.com/title/tt0053125/', 'https://www.imdb.com/title/tt0036775/', 'https://www.imdb.com/title/tt0033467/', 'https://www.imdb.com/title/tt15398776/', 'https://www.imdb.com/title/tt0022100/', 'https://www.imdb.com/title/tt0052357/', 'https://www.imdb.com/title/tt0113277/', 'https://www.imdb.com/title/tt0093058/', 'https://www.imdb.com/title/tt0211915/', 'https://www.imdb.com/title/tt1049413/', 'https://www.imdb.com/title/tt0066921/', 'https://www.imdb.com/title/tt0056592/', 'https://www.imdb.com/title/tt1832382/', 'https://www.imdb.com/title/tt0070735/', 'https://www.imdb.com/title/tt0095016/', 'https://www.imdb.com/title/tt0097576/', 'https://www.imdb.com/title/tt0986264/', 'https://www.imdb.com/title/tt0017136/', 'https://www.imdb.com/title/tt0208092/', 'https://www.imdb.com/title/tt8579674/', 'https://www.imdb.com/title/tt0119488/', 'https://www.imdb.com/title/tt0040522/', 'https://www.imdb.com/title/tt8503618/', 'https://www.imdb.com/title/tt0363163/', 'https://www.imdb.com/title/tt0075314/', 'https://www.imdb.com/title/tt5074352/', 'https://www.imdb.com/title/tt0372784/', 'https://www.imdb.com/title/tt0993846/', 'https://www.imdb.com/title/tt0059578/', 'https://www.imdb.com/title/tt6966692/', 'https://www.imdb.com/title/tt0053291/', 'https://www.imdb.com/title/tt0120382/', 'https://www.imdb.com/title/tt0055031/', 'https://www.imdb.com/title/tt0012349/', 'https://www.imdb.com/title/tt10272386/', 'https://www.imdb.com/title/tt0042192/', 'https://www.imdb.com/title/tt1130884/', 'https://www.imdb.com/title/tt0469494/', 'https://www.imdb.com/title/tt0107290/', 'https://www.imdb.com/title/tt0112641/', 'https://www.imdb.com/title/tt1745960/', 'https://www.imdb.com/title/tt0167404/', 'https://www.imdb.com/title/tt0089881/', 'https://www.imdb.com/title/tt0457430/', 'https://www.imdb.com/title/tt0105695/', 'https://www.imdb.com/title/tt0477348/', 'https://www.imdb.com/title/tt0084787/', 'https://www.imdb.com/title/tt0268978/', 'https://www.imdb.com/title/tt0266697/', 'https://www.imdb.com/title/tt0040897/', 'https://www.imdb.com/title/tt0055630/', 'https://www.imdb.com/title/tt0057115/', 'https://www.imdb.com/title/tt0071853/', 'https://www.imdb.com/title/tt0266543/', 'https://www.imdb.com/title/tt1392214/', 'https://www.imdb.com/title/tt0347149/', 'https://www.imdb.com/title/tt0080678/', 'https://www.imdb.com/title/tt0042876/', 'https://www.imdb.com/title/tt0046912/', 'https://www.imdb.com/title/tt0071315/', 'https://www.imdb.com/title/tt0031381/', 'https://www.imdb.com/title/tt1305806/', 'https://www.imdb.com/title/tt0120735/', 'https://www.imdb.com/title/tt2096673/', 'https://www.imdb.com/title/tt0434409/', 'https://www.imdb.com/title/tt5027774/', 'https://www.imdb.com/title/tt0081398/', 'https://www.imdb.com/title/tt0117951/', 'https://www.imdb.com/title/tt0050212/', 'https://www.imdb.com/title/tt4729430/', 'https://www.imdb.com/title/tt0264464/', 'https://www.imdb.com/title/tt0116282/', 'https://www.imdb.com/title/tt1291584/', 'https://www.imdb.com/title/tt10872600/', 'https://www.imdb.com/title/tt1205489/', 'https://www.imdb.com/title/tt1201607/', 'https://www.imdb.com/title/tt0405159/', 'https://www.imdb.com/title/tt0096283/', 'https://www.imdb.com/title/tt1392190/', 'https://www.imdb.com/title/tt0118849/', 'https://www.imdb.com/title/tt0052618/', 'https://www.imdb.com/title/tt2024544/', 'https://www.imdb.com/title/tt0072684/', 'https://www.imdb.com/title/tt0112471/', 'https://www.imdb.com/title/tt0083658/', 'https://www.imdb.com/title/tt2278388/', 'https://www.imdb.com/title/tt2119532/', 'https://www.imdb.com/title/tt2267998/', 'https://www.imdb.com/title/tt0097165/', 'https://www.imdb.com/title/tt26548265/', 'https://www.imdb.com/title/tt0353969/', 'https://www.imdb.com/title/tt0107207/', 'https://www.imdb.com/title/tt0015864/', 'https://www.imdb.com/title/tt0198781/', 'https://www.imdb.com/title/tt3011894/', 'https://www.imdb.com/title/tt0077416/', 'https://www.imdb.com/title/tt0382932/', 'https://www.imdb.com/title/tt0015324/', 'https://www.imdb.com/title/tt0017925/', 'https://www.imdb.com/title/tt0073195/', 'https://www.imdb.com/title/tt0892769/', 'https://www.imdb.com/title/tt0047296/', 'https://www.imdb.com/title/tt0978762/', 'https://www.imdb.com/title/tt0046268/', 'https://www.imdb.com/title/tt1950186/', 'https://www.imdb.com/title/tt0050986/', 'https://www.imdb.com/title/tt0031679/', 'https://www.imdb.com/title/tt0041959/', 'https://www.imdb.com/title/tt3315342/', 'https://www.imdb.com/title/tt0075148/', 'https://www.imdb.com/title/tt0046438/', 'https://www.imdb.com/title/tt0118715/', 'https://www.imdb.com/title/tt0050976/', 'https://www.imdb.com/title/tt3170832/', 'https://www.imdb.com/title/tt1895587/', 'https://www.imdb.com/title/tt0088247/', 'https://www.imdb.com/title/tt0395169/', 'https://www.imdb.com/title/tt0091763/', 'https://www.imdb.com/title/tt0325980/', 'https://www.imdb.com/title/tt0113247/', 'https://www.imdb.com/title/tt0381681/', 'https://www.imdb.com/title/tt15097216/', 'https://www.imdb.com/title/tt0019254/', 'https://www.imdb.com/title/tt0036868/', 'https://www.imdb.com/title/tt0070047/', 'https://www.imdb.com/title/tt1979320/', 'https://www.imdb.com/title/tt0317705/', 'https://www.imdb.com/title/tt0032138/', 'https://www.imdb.com/title/tt0074958/', 'https://www.imdb.com/title/tt0092005/', 'https://www.imdb.com/title/tt1028532/', 'https://www.imdb.com/title/tt0059742/', 'https://www.imdb.com/title/tt0476735/', 'https://www.imdb.com/title/tt4016934/', 'https://www.imdb.com/title/tt0035446/', 'https://www.imdb.com/title/tt0758758/', 'https://www.imdb.com/title/tt0058946/', 'https://www.imdb.com/title/tt0032551/', 'https://www.imdb.com/title/tt0107048/', 'https://www.imdb.com/title/tt0129167/', 'https://www.imdb.com/title/tt0245712/', 'https://www.imdb.com/title/tt0032976/', 'https://www.imdb.com/title/tt1454029/', 'https://www.imdb.com/title/tt0061512/', 'https://www.imdb.com/title/tt0025316/', 'https://www.imdb.com/title/tt1954470/', 'https://www.imdb.com/title/tt4430212/', 'https://www.imdb.com/title/tt0087884/']\n"
     ]
    }
   ],
   "source": [
    "headers = {'Accept': '*/*', 'Connection': 'keep-alive', 'User-Agent': 'Mozilla/5.0 (Windows NT 6.0) AppleWebKit/537.36 (KHTML,like Gecko) Chrome/70.0.3538.110 Safari/537.36', 'Accept-Language':'en-US;q=0.5,en;q=0.3', 'Cache-Control': 'max-age=0', 'Upgrade-Insecure-Requests': '1'}\n",
    "\n",
    "response = requests.get('https://www.imdb.com/chart/top/', headers=headers)\n",
    "soup = BeautifulSoup(response.content, 'html.parser')\n",
    "\n",
    "data = json.loads(soup.find('script', {'type':\"application/ld+json\"}).text)\n",
    "\n",
    "#print((data['itemListElement']))\n",
    "name=[]\n",
    "description=[]\n",
    "rating=[]\n",
    "rating_count=[]\n",
    "genre=[]\n",
    "duration=[]\n",
    "url=[]\n",
    "for item in data['itemListElement'][:250]:\n",
    "    name.append(item['item']['name'])\n",
    "    description.append(item['item']['description'])\n",
    "    rating.append(item['item']['aggregateRating']['ratingValue'])\n",
    "    rating_count.append(item['item']['aggregateRating']['ratingCount'])\n",
    "    genre.append(item['item']['genre'])\n",
    "    s=item['item']['duration']\n",
    "    duration.append(s[2:])\n",
    "    url.append(item['item']['url'])\n",
    "print(url)"
   ]
  },
  {
   "cell_type": "code",
   "execution_count": 26,
   "metadata": {},
   "outputs": [],
   "source": [
    "response1=requests.get('https://www.imdb.com/title/tt0111161/',headers=headers)\n",
    "soup1=BeautifulSoup(response1.content,'html.parser')"
   ]
  },
  {
   "cell_type": "code",
   "execution_count": 44,
   "metadata": {},
   "outputs": [
    {
     "name": "stdout",
     "output_type": "stream",
     "text": [
      "1994\n"
     ]
    }
   ],
   "source": [
    "year_link=soup1.find_all('a',class_=\"ipc-link ipc-link--baseAlt ipc-link--inherit-color\")\n",
    "year = None\n",
    "for link in year_link:\n",
    "    if link.get_text().isdigit() and len(link.get_text()) == 4:  # Check if text is a 4-digit number\n",
    "        year = link.get_text()\n",
    "        break  # Stop after finding the first year\n",
    "print(year)\n"
   ]
  },
  {
   "cell_type": "code",
   "execution_count": 35,
   "metadata": {},
   "outputs": [
    {
     "data": {
      "text/plain": [
       "'Frank Darabont'"
      ]
     },
     "execution_count": 35,
     "metadata": {},
     "output_type": "execute_result"
    }
   ],
   "source": [
    "soup1.find('a',class_=\"ipc-metadata-list-item__list-content-item ipc-metadata-list-item__list-content-item--link\" ).text"
   ]
  },
  {
   "cell_type": "code",
   "execution_count": 81,
   "metadata": {},
   "outputs": [
    {
     "data": {
      "text/plain": [
       "['Tim Robbins', 'Morgan Freeman', 'Bob Gunton']"
      ]
     },
     "execution_count": 81,
     "metadata": {},
     "output_type": "execute_result"
    }
   ],
   "source": [
    "a1=soup1.find('li',class_=\"ipc-metadata-list__item ipc-metadata-list-item--link\")\n",
    "a2=a1.find_all('a',class_=\"ipc-metadata-list-item__list-content-item\")\n",
    "stars=[]\n",
    "for link in a2:\n",
    "    stars.append(link.text)\n",
    "stars\n",
    "\n",
    "\n"
   ]
  },
  {
   "cell_type": "code",
   "execution_count": 103,
   "metadata": {},
   "outputs": [
    {
     "name": "stdout",
     "output_type": "stream",
     "text": [
      "United States English\n"
     ]
    }
   ],
   "source": [
    "country1=soup1.find_all('section',class_=\"ipc-page-section ipc-page-section--base celwidget\")\n",
    "#print((country1))\n",
    "# for id,cont in enumerate(country1):\n",
    "#     # print(id)\n",
    "#     # print(cont)\n",
    "final_country=country1[8]\n",
    "\n",
    "country=final_country.find_all('a',class_=\"ipc-metadata-list-item__list-content-item ipc-metadata-list-item__list-content-item--link\")[1].text\n",
    "language=final_country.find_all('a',class_=\"ipc-metadata-list-item__list-content-item ipc-metadata-list-item__list-content-item--link\")[4].text\n",
    "print(country,language)"
   ]
  },
  {
   "cell_type": "code",
   "execution_count": 107,
   "metadata": {},
   "outputs": [],
   "source": [
    "country_final=[]\n",
    "language_final=[]\n",
    "stars_final=[]\n",
    "year_final=[]\n",
    "director_final=[]\n",
    "for link in url:\n",
    "    response1=requests.get(link,headers=headers)\n",
    "    soup1=BeautifulSoup(response1.content,'html.parser')\n",
    "    year_link=soup1.find_all('a',class_=\"ipc-link ipc-link--baseAlt ipc-link--inherit-color\")\n",
    "    year = None\n",
    "    for link in year_link:\n",
    "        if link.get_text().isdigit() and len(link.get_text()) == 4:  # Check if text is a 4-digit number\n",
    "            year = link.get_text()\n",
    "            break  # Stop after finding the first year\n",
    "    year_final.append(year)\n",
    "    director_final.append(soup1.find('a',class_=\"ipc-metadata-list-item__list-content-item ipc-metadata-list-item__list-content-item--link\" ).text)\n",
    "    a1=soup1.find('li',class_=\"ipc-metadata-list__item ipc-metadata-list-item--link\")\n",
    "    a2=a1.find_all('a',class_=\"ipc-metadata-list-item__list-content-item\")\n",
    "    stars=[]\n",
    "    for link in a2:\n",
    "        stars.append(link.text)\n",
    "    stars_final.append(stars)\n",
    "    country1=soup1.find_all('section',class_=\"ipc-page-section ipc-page-section--base celwidget\")\n",
    "    #print((country1))\n",
    "    # for id,cont in enumerate(country1):\n",
    "    #     # print(id)\n",
    "    #     # print(cont)\n",
    "    final_country=country1[8]\n",
    "    try:\n",
    "        country=final_country.find_all('a',class_=\"ipc-metadata-list-item__list-content-item ipc-metadata-list-item__list-content-item--link\")[1].text\n",
    "    except:\n",
    "        country=None\n",
    "    try:\n",
    "        language=final_country.find_all('a',class_=\"ipc-metadata-list-item__list-content-item ipc-metadata-list-item__list-content-item--link\")[4].text\n",
    "    except:\n",
    "        language=None\n",
    "    country_final.append(country)\n",
    "    language_final.append(language)\n",
    "\n",
    "\n",
    "\n",
    "\n"
   ]
  },
  {
   "cell_type": "code",
   "execution_count": 113,
   "metadata": {},
   "outputs": [
    {
     "name": "stdout",
     "output_type": "stream",
     "text": [
      "                       name        country                language  year  \\\n",
      "0  The Shawshank Redemption  United States                 English  1994   \n",
      "1             The Godfather  United States                 English  1972   \n",
      "2           The Dark Knight  United States            Warner Bros.  2008   \n",
      "3     The Godfather Part II  United States                 English  1974   \n",
      "4              12 Angry Men  United States  Orion-Nova Productions  1957   \n",
      "\n",
      "               director                                               cast  \\\n",
      "0        Frank Darabont          [Tim Robbins, Morgan Freeman, Bob Gunton]   \n",
      "1  Francis Ford Coppola                 [Mario Puzo, Francis Ford Coppola]   \n",
      "2     Christopher Nolan  [Jonathan Nolan, Christopher Nolan, David S. G...   \n",
      "3  Francis Ford Coppola                 [Francis Ford Coppola, Mario Puzo]   \n",
      "4          Sidney Lumet                                    [Reginald Rose]   \n",
      "\n",
      "   rating                 genre  rating_count duration  \\\n",
      "0     9.3                 Drama       2949951    2H22M   \n",
      "1     9.2          Crime, Drama       2056341    2H55M   \n",
      "2     9.0  Action, Crime, Drama       2925228    2H32M   \n",
      "3     9.0          Crime, Drama       1389782    3H22M   \n",
      "4     9.0          Crime, Drama        887543    1H36M   \n",
      "\n",
      "                                         description  \n",
      "0  A banker convicted of uxoricide forms a friend...  \n",
      "1  The aging patriarch of an organized crime dyna...  \n",
      "2  When a menace known as the Joker wreaks havoc ...  \n",
      "3  The early life and career of Vito Corleone in ...  \n",
      "4  The jury in a New York City murder trial is fr...  \n"
     ]
    }
   ],
   "source": [
    "df=pd.DataFrame({'name':name,'country':country_final,'language':language_final,'year':year_final,'director':director_final ,'cast':stars_final, 'rating':rating,'genre':genre,'rating_count':rating_count,'duration':duration,'description':description})\n",
    "print(df.head(5))\n",
    "df.to_csv(\"movies.csv\") "
   ]
  },
  {
   "cell_type": "code",
   "execution_count": null,
   "metadata": {},
   "outputs": [],
   "source": []
  }
 ],
 "metadata": {
  "kernelspec": {
   "display_name": "base",
   "language": "python",
   "name": "python3"
  },
  "language_info": {
   "codemirror_mode": {
    "name": "ipython",
    "version": 3
   },
   "file_extension": ".py",
   "mimetype": "text/x-python",
   "name": "python",
   "nbconvert_exporter": "python",
   "pygments_lexer": "ipython3",
   "version": "3.12.4"
  }
 },
 "nbformat": 4,
 "nbformat_minor": 2
}
